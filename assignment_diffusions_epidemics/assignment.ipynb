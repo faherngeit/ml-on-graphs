{
 "cells": [
  {
   "cell_type": "markdown",
   "metadata": {},
   "source": [
    "# Assignment — Diffusions and Epidemics"
   ]
  },
  {
   "cell_type": "code",
   "execution_count": null,
   "metadata": {},
   "outputs": [],
   "source": [
    "import numpy as np\n",
    "import matplotlib.pyplot as plt\n",
    "import networkx as nx\n",
    "from zlib import adler32"
   ]
  },
  {
   "cell_type": "markdown",
   "metadata": {},
   "source": [
    "### Task 1. Biased random walks, flow graphs (0.8 point)"
   ]
  },
  {
   "cell_type": "markdown",
   "metadata": {},
   "source": [
    "In this task, we consider a concept of flow graphs, namely weighted networks where dynamics flows are embedded into the link weight. Flow graphs provide an integrated representation of the structure and dynamics of the system, which can then be analyzed with standard tools of network science. Recall that an unbiased random walk uses a transition matrix $P$ to calculate distribution vector $p(t)$\n",
    "\n",
    "$$p(t+1) = P^Tp(t)$$\n",
    "\n",
    "$$P = D^{-1}A$$\n",
    "\n",
    "where $D$ is a degree matrix. Thereby, the probability to jump from $i$ to $j$ is \n",
    "\n",
    "$$P_{ij} = \\frac{A_{ij}}{d_i}$$\n",
    "\n",
    "That is, a walker select the next node uniformly from nearest neighbors. \n",
    "\n",
    "A biased random walk is defined as follows. Let each node $i$ be given a definite positive attribute $\\alpha_i$. Then a walker located at node $i$ decides to jump onto one of its neighbors, say $j$, with a probability proportional to $\\alpha_jA_{ij}$. Hence, the probability to jump from $i$ to $j$ is given by\n",
    "\n",
    "$$P_{ij} = \\frac{\\alpha_j A_{ij}}{\\sum_k \\alpha_k A_{ik}}$$\n",
    "\n",
    "The usefull property of a biased random walk is that it coincides with an unbiased random walks on a _flow graph_\n",
    "\n",
    "$$A'_{ij} = \\alpha_i A_{ij} \\alpha_j$$\n",
    "\n",
    "Let us build this graph and look at its structure."
   ]
  },
  {
   "cell_type": "code",
   "execution_count": null,
   "metadata": {},
   "outputs": [],
   "source": [
    "plt.figure(figsize=(5, 5))\n",
    "G = nx.karate_club_graph()\n",
    "pos = nx.kamada_kawai_layout(G)\n",
    "nx.draw(G, pos=pos)"
   ]
  },
  {
   "cell_type": "markdown",
   "metadata": {},
   "source": [
    "Build a few flow graphs using some centralities: degree, betweenness, eigenvalue.\n",
    "\n",
    "Write a function `degree_flow_graph` that takes a graph and returns a flow graph where $\\alpha_i$ is a degree centrality value of a node $i$. All weights are bounded by $\\alpha_i / \\max(\\alpha)$, that is the largest weight is 1.\n",
    "\n",
    "Functions `betweenness_flow_graph` and `eigenvector_flow_graph` have the same form, they are based on betweenness and eigenvalue centrality respectively."
   ]
  },
  {
   "cell_type": "code",
   "execution_count": null,
   "metadata": {
    "deletable": false,
    "nbgrader": {
     "cell_type": "code",
     "checksum": "22dc712bffb7868d43243b18fcb50155",
     "grade": false,
     "grade_id": "cell-c5d664db33c20859",
     "locked": false,
     "schema_version": 3,
     "solution": true,
     "task": false
    }
   },
   "outputs": [],
   "source": [
    "def degree_flow_graph(G):\n",
    "    # YOUR CODE HERE\n",
    "    raise NotImplementedError()"
   ]
  },
  {
   "cell_type": "code",
   "execution_count": null,
   "metadata": {
    "deletable": false,
    "editable": false,
    "nbgrader": {
     "cell_type": "code",
     "checksum": "d64383e9771aa1921ff59c2272af7612",
     "grade": true,
     "grade_id": "cell-aeac82c1a653449e",
     "locked": true,
     "points": 0.1,
     "schema_version": 3,
     "solution": false,
     "task": false
    }
   },
   "outputs": [],
   "source": [
    "degreeG = degree_flow_graph(G)\n",
    "assert len(G) == len(degreeG)\n",
    "d_weight = np.array([d['weight'] for (u,v,d) in degreeG.edges(data=True)])\n",
    "assert round(d_weight.sum(), 4) == 17.8431\n",
    "assert round(d_weight[76], 4) == 0.5\n",
    "assert round(d_weight[33], 4) == 0.0588\n",
    "assert round(d_weight[31], 4) == 0.5882"
   ]
  },
  {
   "cell_type": "code",
   "execution_count": null,
   "metadata": {
    "deletable": false,
    "nbgrader": {
     "cell_type": "code",
     "checksum": "f7ab5844d13644464d17695f9c68a0ea",
     "grade": false,
     "grade_id": "cell-5bd22c843d833cd1",
     "locked": false,
     "schema_version": 3,
     "solution": true,
     "task": false
    }
   },
   "outputs": [],
   "source": [
    "def betweenness_flow_graph(G):\n",
    "    # YOUR CODE HERE\n",
    "    raise NotImplementedError()"
   ]
  },
  {
   "cell_type": "code",
   "execution_count": null,
   "metadata": {
    "deletable": false,
    "editable": false,
    "nbgrader": {
     "cell_type": "code",
     "checksum": "cb18af79633b69cb39341e1a6fd70959",
     "grade": true,
     "grade_id": "cell-a6e0098ac3d2377a",
     "locked": true,
     "points": 0.1,
     "schema_version": 3,
     "solution": false,
     "task": false
    }
   },
   "outputs": [],
   "source": [
    "betweennessG = betweenness_flow_graph(G)\n",
    "assert len(G) == len(betweennessG)\n",
    "b_weight = np.array([d['weight'] for (u,v,d) in betweennessG.edges(data=True)])\n",
    "assert round(b_weight.sum(), 4) == 7.5463\n",
    "assert round(b_weight[1], 4) == 1\n",
    "assert round(b_weight[33], 4) == 0.1571\n",
    "assert round(b_weight[31], 4) == 0.0041"
   ]
  },
  {
   "cell_type": "code",
   "execution_count": null,
   "metadata": {
    "deletable": false,
    "nbgrader": {
     "cell_type": "code",
     "checksum": "5e145839475a5715a70fd4570ccccf9d",
     "grade": false,
     "grade_id": "cell-e3ad7347716118fb",
     "locked": false,
     "schema_version": 3,
     "solution": true,
     "task": false
    }
   },
   "outputs": [],
   "source": [
    "def eigenvector_flow_graph(G):\n",
    "    # YOUR CODE HERE\n",
    "    raise NotImplementedError()"
   ]
  },
  {
   "cell_type": "code",
   "execution_count": null,
   "metadata": {
    "deletable": false,
    "editable": false,
    "nbgrader": {
     "cell_type": "code",
     "checksum": "421147c608e3d5cabf997103af594f5c",
     "grade": true,
     "grade_id": "cell-92123bc7b871cc55",
     "locked": true,
     "points": 0.1,
     "schema_version": 3,
     "solution": false,
     "task": false
    }
   },
   "outputs": [],
   "source": [
    "eigenvectorG = eigenvector_flow_graph(G)\n",
    "assert len(G) == len(eigenvectorG)\n",
    "e_weight = np.array([d['weight'] for (u,v,d) in eigenvectorG.edges(data=True)])\n",
    "assert round(e_weight.sum(), 4) == 29.1822\n",
    "assert round(e_weight[75], 4) == 0.5117\n",
    "assert round(e_weight[33], 4) == 0.1544\n",
    "assert round(e_weight[31], 4) == 0.8496"
   ]
  },
  {
   "cell_type": "code",
   "execution_count": null,
   "metadata": {},
   "outputs": [],
   "source": [
    "cases = [[degreeG, d_weight, 10, 'Degree'], \n",
    "         [betweennessG, b_weight, 10, 'Betweenness'], \n",
    "         [eigenvectorG, e_weight, 10, 'Eigenvector']]\n",
    "for graph, weight, scale, title in cases:\n",
    "    plt.figure(figsize=(5, 5))\n",
    "    nx.draw(graph, \n",
    "            pos,\n",
    "            node_size=100,\n",
    "            edgecolors='black',\n",
    "            node_color='tab:cyan',\n",
    "            width=weight*scale)\n",
    "    plt.title('{} flow graph'.format(title))\n",
    "    plt.show()"
   ]
  },
  {
   "cell_type": "markdown",
   "metadata": {},
   "source": [
    "Using unbiased random walk on an undirected graph, a probability of being on a node converges to a limit distribution vector\n",
    "\n",
    "$$\\lim_{t \\to \\infty} p(t) = \\pi$$\n",
    "\n",
    "$$\\pi_i = \\frac{d_i}{\\sum_j d_j}$$\n",
    "\n",
    "Similarly using biased random walks, it converges to a limit distribution vector\n",
    "\n",
    "$$\\pi_i' = \\frac{\\sum_j \\alpha_i A_{ij} \\alpha_j}{\\sum_{i,j} \\alpha_i A_{ij} \\alpha_j}$$\n",
    "\n",
    "Let us check this fact using an eigenvector flow graph.\n",
    "\n",
    "Write a function `k_limit_distribution` that takes a graph, a number of iterations `k` and returns a tuple of 2 np.arrays:\n",
    "* np.array of shape `(k+1, n)` where `n` is a number of nodes. i-th row contains distribution at time moment `t=i`. Here is a uniform distribution at `t=0`.\n",
    "* np.array with limit distribution"
   ]
  },
  {
   "cell_type": "code",
   "execution_count": null,
   "metadata": {
    "deletable": false,
    "nbgrader": {
     "cell_type": "code",
     "checksum": "76d2e7528f1bf6348cb7d793312e313a",
     "grade": false,
     "grade_id": "cell-ea788f29dfd55312",
     "locked": false,
     "schema_version": 3,
     "solution": true,
     "task": false
    }
   },
   "outputs": [],
   "source": [
    "def k_limit_distribution(G, k):\n",
    "    # YOUR CODE HERE\n",
    "    raise NotImplementedError()"
   ]
  },
  {
   "cell_type": "code",
   "execution_count": null,
   "metadata": {
    "deletable": false,
    "editable": false,
    "nbgrader": {
     "cell_type": "code",
     "checksum": "10c1c161f841b3a663ec2ca676959abc",
     "grade": true,
     "grade_id": "cell-1124737757c57a35",
     "locked": true,
     "points": 0.5,
     "schema_version": 3,
     "solution": false,
     "task": false
    }
   },
   "outputs": [],
   "source": [
    "K = 10\n",
    "k_d, limit_d = k_limit_distribution(eigenvectorG, K)\n",
    "assert k_d.shape == (11, 34)\n",
    "assert k_d[0].sum() == 1\n",
    "assert k_d.sum() == 11\n",
    "assert round(k_d[8, 8], 4) == 0.0528\n",
    "assert round(k_d[0, 13], 4) == 0.0294"
   ]
  },
  {
   "cell_type": "code",
   "execution_count": null,
   "metadata": {},
   "outputs": [],
   "source": [
    "plt.figure(figsize=(6,6))\n",
    "for k, alpha in enumerate(np.linspace(0.3, 0.9, 9)):\n",
    "    plt.plot(k_d[k], color='tab:orange', alpha=alpha)\n",
    "plt.plot(k_d[-1], color='tab:orange', label='distribution at t={}'.format(K))\n",
    "plt.plot(limit_d, '.', color='black', label='limit distribution');\n",
    "plt.legend()\n",
    "plt.title('Convergence of distribution')\n",
    "plt.show()"
   ]
  },
  {
   "cell_type": "markdown",
   "metadata": {},
   "source": [
    "### Task 2. Diffusions on networks (2 points)"
   ]
  },
  {
   "cell_type": "markdown",
   "metadata": {},
   "source": [
    "A diffusion process is a propagation model, where node values $\\phi$ (say, 'heat') spread out of high concentration zone. Consider the diffusion on grid of the size 20x20. Let there be a 3x3 sub-grid with a heat value 3 and a 7x5 sub-grid with a heat value 1. All other nodes has a value 0. The initial heat values is $\\phi_0$."
   ]
  },
  {
   "cell_type": "code",
   "execution_count": null,
   "metadata": {},
   "outputs": [],
   "source": [
    "phi_map = np.zeros((20, 20))\n",
    "phi_map[1:4, 1:4] = 3\n",
    "phi_map[10:15, 8:15] = 1\n",
    "phi0 = phi_map.flatten()"
   ]
  },
  {
   "cell_type": "code",
   "execution_count": null,
   "metadata": {},
   "outputs": [],
   "source": [
    "plt.figure(figsize=(7*0.7, 3*0.7))\n",
    "gridG = nx.grid_graph((20, 20))\n",
    "nx.draw_kamada_kawai(\n",
    "    gridG,\n",
    "    cmap=plt.cm.inferno_r,\n",
    "    vmin=0, vmax=3,\n",
    "    width=0,\n",
    "    node_size=40,\n",
    "    node_color=phi0)"
   ]
  },
  {
   "cell_type": "markdown",
   "metadata": {},
   "source": [
    "Create a diffusion simulation based on this diffusion equation\n",
    "\n",
    "$$\\frac{d\\phi}{dt} = -CL\\phi$$\n",
    "\n",
    "where $L$ is a graph Laplacian.\n",
    "\n",
    "Write a function `next_phi` that takes an adjacency matrix `A`, np.array with previous heat values `phi`, constant `C` and time increment `dt`. The function returns a np.array with the next heat values."
   ]
  },
  {
   "cell_type": "code",
   "execution_count": null,
   "metadata": {
    "deletable": false,
    "nbgrader": {
     "cell_type": "code",
     "checksum": "f1ae6723ed0fe6204738bfde1300ec10",
     "grade": false,
     "grade_id": "cell-f084b91a7a071038",
     "locked": false,
     "schema_version": 3,
     "solution": true,
     "task": false
    }
   },
   "outputs": [],
   "source": [
    "def next_phi(A, phi, C, dt):\n",
    "    # YOUR CODE HERE\n",
    "    raise NotImplementedError()"
   ]
  },
  {
   "cell_type": "code",
   "execution_count": null,
   "metadata": {
    "deletable": false,
    "editable": false,
    "nbgrader": {
     "cell_type": "code",
     "checksum": "e879dacebdbbef3fe9516d22c10b5889",
     "grade": true,
     "grade_id": "cell-77fa8098bedb8168",
     "locked": true,
     "points": 1,
     "schema_version": 3,
     "solution": false,
     "task": false
    }
   },
   "outputs": [],
   "source": [
    "A = nx.to_numpy_array(gridG)\n",
    "C = 0.1\n",
    "dt = 2\n",
    "phi = next_phi(A, phi0, C, dt)\n",
    "assert phi.shape == (400,)\n",
    "assert phi.sum() == phi0.sum()\n",
    "assert phi.std() < phi0.sum()\n",
    "assert round(phi[20:25].sum(), 4) == 7.2"
   ]
  },
  {
   "cell_type": "code",
   "execution_count": null,
   "metadata": {},
   "outputs": [],
   "source": [
    "plt.figure(figsize=(7*2, 3*3))\n",
    "\n",
    "phi = phi0\n",
    "for i in range(6):\n",
    "    plt.subplot(3, 2, i+1)\n",
    "    gridG = nx.grid_graph((20, 20))\n",
    "    nx.draw_kamada_kawai(\n",
    "        gridG,\n",
    "        cmap=plt.cm.inferno_r,\n",
    "        vmin=0, vmax=3,\n",
    "        width=0,\n",
    "        node_size=40,\n",
    "        node_color=phi)\n",
    "    plt.title('t = {}'.format(i*dt))\n",
    "    phi = next_phi(A, phi, C, dt)\n",
    "phi12 = phi"
   ]
  },
  {
   "cell_type": "markdown",
   "metadata": {},
   "source": [
    "We can run simulation step-by-step as long as we need, but fortunately, there is an analytical solution\n",
    "\n",
    "$$\\phi(t) = \\sum_k a_k(t) v_k = \\sum_k a_k(0) e^{-C\\lambda_k t} v_k$$\n",
    "\n",
    "where $a_k(t) = \\phi(t)^T v_k$ and $v_k$ is k-th smallest eigenvector of a Laplacian.\n",
    "\n",
    "Write a function `phi_t` that takes an adjacency matrix `A`, np.array with initial heat values `phi0`, constant `C` and time moment `t`. The function returns a np.array with the heat values at time moment `t`. Use `np.linalg.eigh` or `scipy.linalg.eigh` for a symmetric matrix."
   ]
  },
  {
   "cell_type": "code",
   "execution_count": null,
   "metadata": {
    "deletable": false,
    "nbgrader": {
     "cell_type": "code",
     "checksum": "3447b53bce3c5f3d50c6516d67bd24fa",
     "grade": false,
     "grade_id": "cell-aed913bdee3b3d1b",
     "locked": false,
     "schema_version": 3,
     "solution": true,
     "task": false
    }
   },
   "outputs": [],
   "source": [
    "def phi_t(A, phi0, C, t):\n",
    "    # YOUR CODE HERE\n",
    "    raise NotImplementedError()"
   ]
  },
  {
   "cell_type": "code",
   "execution_count": null,
   "metadata": {
    "deletable": false,
    "editable": false,
    "nbgrader": {
     "cell_type": "code",
     "checksum": "3241a67ee7ec2cf19c10366317fc5cbc",
     "grade": true,
     "grade_id": "cell-16e1ff822aa555a5",
     "locked": true,
     "points": 1,
     "schema_version": 3,
     "solution": false,
     "task": false
    }
   },
   "outputs": [],
   "source": [
    "assert phi_t(A, phi0, C, 0).shape == (400,)\n",
    "assert round(np.linalg.norm(phi0 - phi_t(A, phi0, C, 0)), 4) == 0\n",
    "assert round(np.linalg.norm(phi12 - phi_t(A, phi0, C, 12)), 4) < 0.4\n",
    "assert len(np.unique(phi_t(A, phi0, C, 10000).round(4))) == 1\n",
    "assert phi_t(A, phi0, C, 10000).round(4)[0] == phi0.sum() / len(phi0)"
   ]
  },
  {
   "cell_type": "code",
   "execution_count": null,
   "metadata": {},
   "outputs": [],
   "source": [
    "plt.figure(figsize=(7*2, 3*2))\n",
    "i = 1\n",
    "for t in [10, 20, 50, 100]:\n",
    "    plt.subplot(2, 2, i)\n",
    "    gridG = nx.grid_graph((20, 20))\n",
    "    nx.draw_kamada_kawai(\n",
    "        gridG,\n",
    "        cmap=plt.cm.inferno_r,\n",
    "        vmin=0, vmax=3,\n",
    "        width=0,\n",
    "        node_size=40,\n",
    "        node_color=phi_t(A, phi0, C, t))\n",
    "    plt.title('t = {}'.format(t))\n",
    "    i += 1"
   ]
  },
  {
   "cell_type": "markdown",
   "metadata": {},
   "source": [
    "### Task 3. SI model (0.8 point)"
   ]
  },
  {
   "cell_type": "markdown",
   "metadata": {},
   "source": [
    "Consider a simple model of an epidemic — SI model. S — susceptible, I — infectious. Initialy we only have a few infected persons and all others are susceptible. Then some susceptible people become infected with infection rate $\\beta$. The model is defined as follows:\n",
    "\n",
    "Dynamic form\n",
    "\n",
    "$$S \\underset{\\beta SI}{\\to} I$$\n",
    "\n",
    "Equation form\n",
    "\n",
    "$$\\frac{dI}{dt} = \\beta \\frac{S}{N}I$$\n",
    "\n",
    "$$S + I = N$$\n",
    "\n",
    "where $N$ is the total population.\n",
    "\n",
    "Write a function `si_epidemic` that takes the total population `total`, number of infected people `I0`, infected rate `beta`, time increment `dt`, number of iterations `k` and returns a returns np.array with solution of the form `[[S0, I0], [S1, I1], ...]` so that number of rows is k+1."
   ]
  },
  {
   "cell_type": "code",
   "execution_count": null,
   "metadata": {
    "deletable": false,
    "nbgrader": {
     "cell_type": "code",
     "checksum": "46978546d42b964b9801acb7a986e251",
     "grade": false,
     "grade_id": "cell-a090a822984a7b52",
     "locked": false,
     "schema_version": 3,
     "solution": true,
     "task": false
    }
   },
   "outputs": [],
   "source": [
    "def si_epidemic(total, I0, beta, dt, k):\n",
    "    # YOUR CODE HERE\n",
    "    raise NotImplementedError()"
   ]
  },
  {
   "cell_type": "code",
   "execution_count": null,
   "metadata": {
    "deletable": false,
    "editable": false,
    "nbgrader": {
     "cell_type": "code",
     "checksum": "6e0858c017078633e0b65b2dc40ff999",
     "grade": true,
     "grade_id": "cell-41ccf27a8bbdc911",
     "locked": true,
     "points": 0.8,
     "schema_version": 3,
     "solution": false,
     "task": false
    }
   },
   "outputs": [],
   "source": [
    "solution = si_epidemic(total=1000, I0=1, beta=0.3, dt=0.5, k=130-1)\n",
    "assert solution.shape == (130, 2)\n",
    "assert np.all(solution[0] == [999, 1])\n",
    "assert np.all(solution[10].round(2) == [995.97, 4.03])\n",
    "assert np.all(solution[-1].round(2) == [0, 1000])\n",
    "assert adler32(str(solution[100].round(2)[0]).encode()) == 32047304"
   ]
  },
  {
   "cell_type": "code",
   "execution_count": null,
   "metadata": {},
   "outputs": [],
   "source": [
    "plt.plot(solution)\n",
    "plt.legend(['S', 'I'])\n",
    "plt.title('SI model, infected rate is 0.3')\n",
    "plt.xlabel('time')\n",
    "plt.ylabel('population')\n",
    "plt.show()"
   ]
  },
  {
   "cell_type": "markdown",
   "metadata": {},
   "source": [
    "Let us look at the plot of epidemic dynamics with the same setup but $\\beta = 0.1$."
   ]
  },
  {
   "cell_type": "code",
   "execution_count": null,
   "metadata": {},
   "outputs": [],
   "source": [
    "solution = si_epidemic(total=1000, I0=1, beta=0.1, dt=0.5, k=130-1)\n",
    "plt.plot(solution)\n",
    "plt.legend(['S', 'I'])\n",
    "plt.title('SI model, infected rate is 0.1')\n",
    "plt.xlabel('time')\n",
    "plt.ylabel('population')\n",
    "plt.show()"
   ]
  },
  {
   "cell_type": "markdown",
   "metadata": {},
   "source": [
    "### Task 4. SIS model (1 point)"
   ]
  },
  {
   "cell_type": "markdown",
   "metadata": {},
   "source": [
    "Next, consider SIS model. S — susceptible, I — infectious. At the next time moment, some susceptible people become infected with infection rate $\\beta$ and some infected people become susceptible with recovery rate $\\gamma$. The model is defined as follows:\n",
    "\n",
    "Dynamic form\n",
    "\n",
    "$$S \\underset{\\beta S I}{\\to} I \\underset{\\gamma I}{\\to} S$$\n",
    "\n",
    "Equation form\n",
    "\n",
    "$$\\frac{dI}{dt} = \\beta \\frac{S}{N}I - \\gamma I$$\n",
    "\n",
    "$$S + I = N$$\n",
    "\n",
    "where $N$ is the total population. \n",
    "\n",
    "Write a function `sis_epidemic` that takes the total population `total`, number of infected people `I0`, infected rate `beta`, recovery rate `gamma`, time increment `dt`, number of iterations `k` and returns a solution of the form of a np.array\n",
    "\n",
    "`[[S0, I0], [S1, I1], ...]`\n",
    "\n",
    "so that number of rows is `k+1`."
   ]
  },
  {
   "cell_type": "code",
   "execution_count": null,
   "metadata": {
    "deletable": false,
    "nbgrader": {
     "cell_type": "code",
     "checksum": "876da63b4e2f617be9159babd8994cf7",
     "grade": false,
     "grade_id": "cell-86c4dc5ec5f6da94",
     "locked": false,
     "schema_version": 3,
     "solution": true,
     "task": false
    }
   },
   "outputs": [],
   "source": [
    "def sis_epidemic(total, I0, beta, gamma, dt, k):\n",
    "    # YOUR CODE HERE\n",
    "    raise NotImplementedError()"
   ]
  },
  {
   "cell_type": "code",
   "execution_count": null,
   "metadata": {
    "deletable": false,
    "editable": false,
    "nbgrader": {
     "cell_type": "code",
     "checksum": "6712231d657bb35087d4b16d44f02b15",
     "grade": true,
     "grade_id": "cell-26ae600d9317de98",
     "locked": true,
     "points": 1,
     "schema_version": 3,
     "solution": false,
     "task": false
    }
   },
   "outputs": [],
   "source": [
    "total = 1000\n",
    "beta, gamma = 0.3, 0.1\n",
    "solution = sis_epidemic(total=total, I0=100, beta=beta, gamma=gamma, dt=0.2, k=600-1)\n",
    "assert solution.shape == (600, 2)\n",
    "assert np.all(solution[0] == [900, 100])\n",
    "assert np.all(solution[10].round(2) == [861.63, 138.37])\n",
    "assert solution[-1, 1].round(2) == round((1 - gamma / beta) * total, 2)\n",
    "assert adler32(str(solution[100].round(2)[0]).encode()) == 72548667"
   ]
  },
  {
   "cell_type": "markdown",
   "metadata": {},
   "source": [
    "Here is the critical point for a basic reproduction number $R_0 = \\beta / \\gamma$\n",
    "\n",
    "* If $R_0 > 1$: Endemic State,  $i(+\\infty) \\to (1 - \\gamma / \\beta)$\n",
    "* If $R_0 < 1$: Disease-free State, $i(+\\infty) \\to 0$\n",
    "\n",
    "where $i(t)$ is the share of infected people at the time moment $t$."
   ]
  },
  {
   "cell_type": "code",
   "execution_count": null,
   "metadata": {},
   "outputs": [],
   "source": [
    "plt.plot(solution)\n",
    "limit = (1 - gamma / beta) * total\n",
    "plt.plot([0, 600], [limit, limit], '--', c='black')\n",
    "plt.legend(['S', 'I', 'N(1 - gamma / beta)'])\n",
    "plt.title('SIS model, Endemic State, R_0 is {:.2f}'.format(beta / gamma))\n",
    "plt.xlabel('time')\n",
    "plt.ylabel('population')\n",
    "plt.show()"
   ]
  },
  {
   "cell_type": "code",
   "execution_count": null,
   "metadata": {},
   "outputs": [],
   "source": [
    "beta, gamma = 0.1, 0.3\n",
    "solution = sis_epidemic(total=total, I0=100, beta=beta, gamma=gamma, dt=0.2, k=100-1)\n",
    "plt.plot(solution)\n",
    "limit = (1 - gamma / beta) * total\n",
    "plt.legend(['S', 'I'])\n",
    "plt.title('SIS model, Disease-free State, R_0 is {:.2f}'.format(beta / gamma))\n",
    "plt.xlabel('time')\n",
    "plt.ylabel('population')\n",
    "plt.show()"
   ]
  },
  {
   "cell_type": "markdown",
   "metadata": {},
   "source": [
    "### Task 5. SIR model (0.7 point)"
   ]
  },
  {
   "cell_type": "markdown",
   "metadata": {},
   "source": [
    "The next model is SIR. S — susceptible, I — infectious, R — recovered people. Initialy we only have a few infected persons and others are susceptible. Then some susceptible people become infected with infection rate $\\beta$ and some infected people recover with recovery rate $\\gamma$. There is no chance to infect after recovering. The model is defined as follows:\n",
    "\n",
    "Dynamic form\n",
    "\n",
    "$$S \\underset{\\beta SI}{\\to} I \\underset{\\gamma I}{\\to} R$$\n",
    "\n",
    "Equation form (in proportions of the population)\n",
    "\n",
    "$$\\begin{cases}\n",
    "ds/dt = -\\beta si\\\\\n",
    "di/dt = \\beta si - \\gamma i\\\\\n",
    "dr/dt = \\gamma i\\\\\n",
    "s+i+r = 1\n",
    "\\end{cases}$$\n",
    "\n",
    "Write a function `sir_epidemic` that takes an initial proportion `s0`, `i0`, `r0`, infection rate `beta`, recovery rate `gamma`, a number of steps `k` and time increment `dt`. The function returns np.array of shape `(k+1, 3)` with `s`, `i`, `r` proportion in each step. The first row contains an initial proportion."
   ]
  },
  {
   "cell_type": "code",
   "execution_count": null,
   "metadata": {
    "deletable": false,
    "nbgrader": {
     "cell_type": "code",
     "checksum": "b91f073265cff3778ac01020a8e7c3d8",
     "grade": false,
     "grade_id": "cell-09f9f8c605f6f188",
     "locked": false,
     "schema_version": 3,
     "solution": true,
     "task": false
    }
   },
   "outputs": [],
   "source": [
    "def sir_epidemic(s0, i0, r0, beta, gamma, k, dt):\n",
    "    # YOUR CODE HERE\n",
    "    raise NotImplementedError()"
   ]
  },
  {
   "cell_type": "code",
   "execution_count": null,
   "metadata": {
    "deletable": false,
    "editable": false,
    "nbgrader": {
     "cell_type": "code",
     "checksum": "c5f3f1d7d7cf6c27b25a66075c2aba3d",
     "grade": true,
     "grade_id": "cell-e5e4b705bf1d226b",
     "locked": true,
     "points": 0.7,
     "schema_version": 3,
     "solution": false,
     "task": false
    }
   },
   "outputs": [],
   "source": [
    "s0, i0, r0 = 0.99, 0.01, 0\n",
    "beta, gamma = 0.6, 0.1\n",
    "dt = 1\n",
    "epidemic = sir_epidemic(s0, i0, r0, beta, gamma, 80, dt)\n",
    "assert epidemic.shape == (81, 3)\n",
    "assert np.all(epidemic[0] == [0.99, 0.01, 0.  ])\n",
    "assert np.all(epidemic[5].round(2) == [0.92, 0.07, 0.01])\n",
    "assert np.all(epidemic[80].round(2) == [0, 0, 1])\n",
    "assert adler32(str(epidemic[10].round(2)[1]).encode()) == 32112840"
   ]
  },
  {
   "cell_type": "markdown",
   "metadata": {},
   "source": [
    "Here is also the critical point for a basic reproduction number $R_0 = \\beta / \\gamma$\n",
    "\n",
    "* If $R_0 > 1$: Endemic State,  $r(+\\infty) \\to 1$\n",
    "* If $R_0 < 1$: Disease-free State, $r(+\\infty) \\to \\text{const}$\n",
    "\n",
    "where $r(t)$ is the share of recovered people at the time moment $t$."
   ]
  },
  {
   "cell_type": "code",
   "execution_count": null,
   "metadata": {},
   "outputs": [],
   "source": [
    "plt.plot(epidemic)\n",
    "plt.legend(['S', 'I', 'R']);\n",
    "plt.title('SIR model, Endemic State, R_0 is {:.2f}'.format(beta/gamma))\n",
    "plt.xlabel('time')\n",
    "plt.ylabel('proportion')\n",
    "plt.show()"
   ]
  },
  {
   "cell_type": "code",
   "execution_count": null,
   "metadata": {},
   "outputs": [],
   "source": [
    "s0, i0, r0 = 0.7, 0.3, 0.\n",
    "dt = 1\n",
    "beta, gamma = 0.1, 0.3\n",
    "epidemic = sir_epidemic(s0, i0, r0, beta, gamma, 80, dt)\n",
    "plt.plot(epidemic)\n",
    "plt.legend(['S', 'I', 'R']);\n",
    "plt.title('SIR model, Disease-free State, R_0 is {:.2f}'.format(beta/gamma))\n",
    "plt.xlabel('time')\n",
    "plt.ylabel('proportion')\n",
    "plt.show()"
   ]
  },
  {
   "cell_type": "markdown",
   "metadata": {},
   "source": [
    "### Task 6. SIRS model (2 points)"
   ]
  },
  {
   "cell_type": "markdown",
   "metadata": {},
   "source": [
    "The next model is SIRS, that is the same as SIR with an exception that recovered people lose their immunity with rate $\\delta$. The dynamic form is\n",
    "\n",
    "$$S \\underset{\\beta SI}{\\to} I \\underset{\\gamma I}{\\to} R \\underset{\\delta R}{\\to} S$$\n",
    "\n",
    "Try to find an equation form using a dynamic form and implement this model.\n",
    "\n",
    "Write a function `sirs_epidemic` that takes an initial proportion of `s0`, `i0`, `r0`, infection rate `beta`, recovery rate `gamma`, loss of immunity rate `delta`, a number of steps `k` and time increment `dt`. The function returns np.array of shape `(k+1, 3)` with `s`, `i`, `r` proportion in each step. The first row contains an initial proportion."
   ]
  },
  {
   "cell_type": "code",
   "execution_count": null,
   "metadata": {
    "deletable": false,
    "nbgrader": {
     "cell_type": "code",
     "checksum": "dadbeb3240e12a5b16e34dbc5f288316",
     "grade": false,
     "grade_id": "cell-ccc54119c550e3c0",
     "locked": false,
     "schema_version": 3,
     "solution": true,
     "task": false
    }
   },
   "outputs": [],
   "source": [
    "def sirs_epidemic(s0, i0, r0, beta, gamma, delta, k, dt):\n",
    "    # YOUR CODE HERE\n",
    "    raise NotImplementedError()"
   ]
  },
  {
   "cell_type": "code",
   "execution_count": null,
   "metadata": {
    "deletable": false,
    "editable": false,
    "nbgrader": {
     "cell_type": "code",
     "checksum": "42894b46665b949b46352765d24d7437",
     "grade": true,
     "grade_id": "cell-f7870527354982ad",
     "locked": true,
     "points": 2,
     "schema_version": 3,
     "solution": false,
     "task": false
    }
   },
   "outputs": [],
   "source": [
    "s0, i0, r0 = 0.9, 0.1, 0\n",
    "beta, gamma, delta = 0.7, 0.3, 0.03\n",
    "dt = 1\n",
    "epidemic = sirs_epidemic(s0, i0, r0, beta, gamma, delta, 200, dt)\n",
    "assert epidemic.shape == (201, 3)\n",
    "assert np.all(epidemic[0] == [0.9, 0.1, 0])\n",
    "assert np.all(epidemic[5].round(2) == [0.48, 0.27, 0.25])\n",
    "assert np.all(epidemic[80].round(2) == [0.39, 0.05, 0.56])\n",
    "assert np.all(epidemic[200].round(2) == [0.43, 0.05, 0.52])\n",
    "assert adler32(str(epidemic[10].round(2).max()).encode()) == 32506060"
   ]
  },
  {
   "cell_type": "code",
   "execution_count": null,
   "metadata": {},
   "outputs": [],
   "source": [
    "cases = [[0.5, 0.20, 0.005, 2000],\n",
    "         [0.4, 0.20, 0.002, 2000],\n",
    "         [0.4, 0.01, 0.010, 300 ],\n",
    "         [0.3, 0.11, 0.100, 100 ],\n",
    "         [0.6, 0.10, 0.000, 80  ]]\n",
    "for beta, gamma, delta, k in cases:\n",
    "    epidemic = sirs_epidemic(s0, i0, r0, beta, gamma, delta, k, dt)\n",
    "    plt.plot(epidemic)\n",
    "    plt.legend(['S', 'I', 'R'])\n",
    "    plt.xlabel('time')\n",
    "    plt.ylabel('proportion')\n",
    "    plt.title('SIRS model, beta={}, gamma={}, delta={}'.format(beta, gamma, delta, k))\n",
    "    plt.show()"
   ]
  },
  {
   "cell_type": "markdown",
   "metadata": {},
   "source": [
    "### Task 7. SIS model on networks (0.7 point)"
   ]
  },
  {
   "cell_type": "markdown",
   "metadata": {},
   "source": [
    "Let us consider epidemic models on networks. SIS model is described by a dynamic form\n",
    "\n",
    "$$S \\to_{\\beta SI} I \\to_{\\gamma I} S$$\n",
    "\n",
    "To model epidemics on networks, we need to use probabilistic approach. First, let us define a function that gives us a random sample of available nodes by given probability.\n",
    "\n",
    "Here is a function `select_nodes` that takes a np.array `vec`, where an i-th element is a number of neighbors that can affect to i-th node with probability `proba`. For example, `vec` can represent the number of infected neighbors, say [0, 2, 1] and then the probability is an infected rate $\\beta$. That means the first node has no infected neighbors, the second has two infected neighbors, the third has one infected neighbor. Thereby, the second node has a $(1 - (1-\\beta)^2)$ probability of getting infected."
   ]
  },
  {
   "cell_type": "code",
   "execution_count": null,
   "metadata": {},
   "outputs": [],
   "source": [
    "def select_nodes(vec, proba):\n",
    "    sample = np.random.rand(len(vec))\n",
    "    res = sample < (1 - (1 - proba)**vec)\n",
    "    return res.astype('int')"
   ]
  },
  {
   "cell_type": "markdown",
   "metadata": {},
   "source": [
    "Let us infect a few random nodes and simulate a propogation of an epidemic.\n",
    "\n",
    "Write a function `sis_networks` that takes a graph `G`, np.array with an initial indicator vector `S` where `S[i]` is 1 if i-th node is susceptible and 0 otherwise (the same for `I`). Any node must be susceptible or infected at any step. Also the function takes rates `beta`, `gamma`, number of steps `k`. The function returns a np.array of shape `(k+1, 2, n)` where `n` is a number of nodes. At i-th step, the matrix `result[i, :, :]` contains indicator `S` in the first column and `I` in the second.\n",
    "\n",
    "_Hint: to calculate the number of infected neighbors, use `I @ A * S`_"
   ]
  },
  {
   "cell_type": "code",
   "execution_count": null,
   "metadata": {
    "deletable": false,
    "nbgrader": {
     "cell_type": "code",
     "checksum": "a03efcc0018179827bd0d5fbb6a19705",
     "grade": false,
     "grade_id": "cell-ea752de6c03d4e40",
     "locked": false,
     "schema_version": 3,
     "solution": true,
     "task": false
    }
   },
   "outputs": [],
   "source": [
    "def sis_networks(G, S, I, beta, gamma, k):\n",
    "    # YOUR CODE HERE\n",
    "    raise NotImplementedError()"
   ]
  },
  {
   "cell_type": "code",
   "execution_count": null,
   "metadata": {
    "deletable": false,
    "editable": false,
    "nbgrader": {
     "cell_type": "code",
     "checksum": "b7be24a33879e6fdaed0d04a6dbb4a0d",
     "grade": true,
     "grade_id": "cell-071dcddfbb7e32c3",
     "locked": true,
     "points": 0.7,
     "schema_version": 3,
     "solution": false,
     "task": false
    }
   },
   "outputs": [],
   "source": [
    "G = nx.barabasi_albert_graph(50, 3, seed=0)\n",
    "\n",
    "I = np.zeros(len(G))\n",
    "I[:3] = 1\n",
    "S = 1 - I\n",
    "beta = 0.2\n",
    "gamma = 0.2\n",
    "\n",
    "epidemic = sis_networks(G, S, I, beta, gamma, 100)\n",
    "assert epidemic.sum() == 5050\n",
    "assert epidemic.shape == (101, 2, 50)\n",
    "assert (epidemic.sum(axis=1) == 1).sum() == 5050\n",
    "sigma = 6.3853\n",
    "mean = 16.0198\n",
    "assert mean - 2*sigma < round(epidemic.sum(axis=2)[:, 0].mean(), 4) < mean + 2*sigma\n",
    "sigma = 5.953\n",
    "mean = 34.2178\n",
    "assert mean - 2*sigma < round(epidemic.sum(axis=2)[:, 1].mean(), 4) < mean + 2*sigma"
   ]
  },
  {
   "cell_type": "code",
   "execution_count": null,
   "metadata": {},
   "outputs": [],
   "source": [
    "cases = [[0.4, 0.2], [0.2, 0.4], [0.1, 0.8]]\n",
    "for beta, gamma in cases:\n",
    "    epidemic = sis_networks(G, S, I, beta, gamma, 100)\n",
    "    plt.plot(epidemic.sum(axis=2))\n",
    "    plt.legend(['S', 'I'])\n",
    "    plt.title('SIS model, beta is {:.1f}, gamma is {:.1f}'.format(beta, gamma))\n",
    "    plt.xlabel('time')\n",
    "    plt.ylabel('number of nodes')\n",
    "    plt.show()"
   ]
  },
  {
   "cell_type": "code",
   "execution_count": null,
   "metadata": {},
   "outputs": [],
   "source": [
    "beta = 0.2\n",
    "gamma = 0.2\n",
    "epidemic = sis_networks(G, S, I, beta, gamma, 100)\n",
    "plt.figure(figsize=(7*2, 5*3))\n",
    "pos = nx.kamada_kawai_layout(G)\n",
    "i = 1\n",
    "for S, I in epidemic[:6]:\n",
    "    plt.subplot(3, 2, i)\n",
    "    nodes = nx.draw_networkx_nodes(G, pos, \n",
    "            node_size=400,\n",
    "            node_color=I+1, \n",
    "            vmin=0, vmax=2, \n",
    "            cmap=plt.cm.rainbow,\n",
    "            edgecolors='black')\n",
    "    nx.draw_networkx_edges(G, pos,\n",
    "            width=0.5,\n",
    "            node_size=400)\n",
    "    nx.draw_networkx_labels(G, pos)\n",
    "    plt.title('Step {}'.format(i))\n",
    "    plt.legend(nodes.legend_elements()[0], ['Susceptible', 'Infected'])\n",
    "    plt.axis('off')\n",
    "    i += 1"
   ]
  },
  {
   "cell_type": "markdown",
   "metadata": {},
   "source": [
    "### Task 8. SIRS model on networks (2 points)"
   ]
  },
  {
   "cell_type": "markdown",
   "metadata": {},
   "source": [
    "We already done compartmental SIRS model, let us implement SIRS node-level model\n",
    "$$S \\to_{\\beta SI} I \\to_{\\gamma I} R \\to_{\\delta R} S$$\n",
    "\n",
    "Write a function `sirs_networks` that takes a graph `G`, np.array with initial indicator `S` where `S[i]` is 1 if i-th node is susceptible and 0 otherwise (the same for `I` and `R`). Also the function takes rates `beta`, `gamma`, `delta`, number of steps `k`. The function returns a np.array of shape `(k+1, 3, n)` where `n` is a number of nodes. At i-th step, the matrix `result[i, :, :]` contains indicator `S` in the first column, `I` in the second, `R` in the third."
   ]
  },
  {
   "cell_type": "code",
   "execution_count": null,
   "metadata": {
    "deletable": false,
    "nbgrader": {
     "cell_type": "code",
     "checksum": "02d6bccd51148cd26023eb1c84482e47",
     "grade": false,
     "grade_id": "cell-37373e160865d476",
     "locked": false,
     "schema_version": 3,
     "solution": true,
     "task": false
    }
   },
   "outputs": [],
   "source": [
    "def sirs_networks(G, S, I, R, beta, gamma, delta, k):\n",
    "    # YOUR CODE HERE\n",
    "    raise NotImplementedError()"
   ]
  },
  {
   "cell_type": "code",
   "execution_count": null,
   "metadata": {
    "deletable": false,
    "editable": false,
    "nbgrader": {
     "cell_type": "code",
     "checksum": "2f86257fbec4a48f8d3212fe9c50f250",
     "grade": true,
     "grade_id": "cell-a333e8d28c0867fc",
     "locked": true,
     "points": 2,
     "schema_version": 3,
     "solution": false,
     "task": false
    }
   },
   "outputs": [],
   "source": [
    "G = nx.barabasi_albert_graph(40, 3, seed=0)\n",
    "I = np.zeros(len(G))\n",
    "I[:3] = 1\n",
    "S = 1 - I\n",
    "R = np.zeros(len(G))\n",
    "\n",
    "beta = 0.1\n",
    "gamma = 0.3\n",
    "delta = 0.1\n",
    "\n",
    "epidemic = sirs_networks(G, S, I, R, beta, gamma, delta, 200)\n",
    "assert epidemic.shape == (201, 3, 40)\n",
    "assert (epidemic.sum(axis=1) == 1).sum() == 8040\n",
    "assert (epidemic[200].sum(axis=1) == [40, 0, 0]).sum() == 3\n",
    "\n",
    "for k in range(6):\n",
    "    for node in G.nodes:\n",
    "        if epidemic[k, 0, node] > epidemic[k+1, 0, node]:\n",
    "            assert epidemic[k+1, 1, node] == 1\n",
    "            neighbors = np.array([n for n in G.neighbors(node)])\n",
    "            assert epidemic[k, 1][neighbors].sum()\n",
    "        elif epidemic[k, 1, node] > epidemic[k+1, 1, node]:\n",
    "            assert epidemic[k+1, 2, node] == 1\n",
    "        elif epidemic[k, 2, node] > epidemic[k+1, 2, node]:\n",
    "            assert epidemic[k+1, 0, node] == 1"
   ]
  },
  {
   "cell_type": "code",
   "execution_count": null,
   "metadata": {},
   "outputs": [],
   "source": [
    "plt.plot(epidemic.sum(axis=2))\n",
    "plt.legend(['S', 'I', 'R'])\n",
    "plt.title('SIRS model, beta is {:.1f}, gamma is {:.1f}, delta is {:.1f}'.format(beta, gamma, delta))\n",
    "plt.xlabel('time')\n",
    "plt.ylabel('number of nodes')\n",
    "plt.show()"
   ]
  },
  {
   "cell_type": "code",
   "execution_count": null,
   "metadata": {},
   "outputs": [],
   "source": [
    "plt.figure(figsize=(7*2, 5*3))\n",
    "pos = nx.kamada_kawai_layout(G)\n",
    "i = 1\n",
    "for S, I, R in epidemic[:6]:\n",
    "    plt.subplot(3, 2, i)\n",
    "    nodes = nx.draw_networkx_nodes(G, pos, \n",
    "            node_size=400,\n",
    "            node_color=(S + I*2), \n",
    "            vmin=0, vmax=2, \n",
    "            cmap=plt.cm.rainbow,\n",
    "            edgecolors='black')\n",
    "    nx.draw_networkx_edges(G, pos,\n",
    "            width=0.5,\n",
    "            node_size=400)\n",
    "    nx.draw_networkx_labels(G, pos)\n",
    "    plt.title('Step {}'.format(i))\n",
    "    if len(nodes.legend_elements()[0]) == 2:\n",
    "        plt.legend(\n",
    "            nodes.legend_elements()[0], \n",
    "            ['Susceptible', 'Infected'])\n",
    "    else:\n",
    "        plt.legend(\n",
    "            nodes.legend_elements()[0], \n",
    "            ['Recovered', 'Susceptible', 'Infected'])\n",
    "    plt.axis('off')\n",
    "    i += 1"
   ]
  },
  {
   "cell_type": "code",
   "execution_count": null,
   "metadata": {},
   "outputs": [],
   "source": []
  }
 ],
 "metadata": {
  "kernelspec": {
   "display_name": "Python 3",
   "language": "python",
   "name": "python3"
  },
  "language_info": {
   "codemirror_mode": {
    "name": "ipython",
    "version": 3
   },
   "file_extension": ".py",
   "mimetype": "text/x-python",
   "name": "python",
   "nbconvert_exporter": "python",
   "pygments_lexer": "ipython3",
   "version": "3.7.4"
  }
 },
 "nbformat": 4,
 "nbformat_minor": 4
}